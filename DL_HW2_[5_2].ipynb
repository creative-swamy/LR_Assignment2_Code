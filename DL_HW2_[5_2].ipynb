{
  "nbformat": 4,
  "nbformat_minor": 0,
  "metadata": {
    "colab": {
      "name": "DL-HW2-[5.2].ipynb",
      "version": "0.3.2",
      "provenance": [],
      "collapsed_sections": []
    },
    "kernelspec": {
      "name": "python3",
      "display_name": "Python 3"
    },
    "accelerator": "GPU"
  },
  "cells": [
    {
      "metadata": {
        "id": "vXIAjCWTbn6n",
        "colab_type": "text"
      },
      "cell_type": "markdown",
      "source": [
        "<center>\n",
        "##IFT 6135 : Representation Learning \n",
        "##Winter 2018\n",
        "  \n",
        "# ASSIGNMENT - 2 : PROGRAMMING PART\n",
        "# Problem (5.2) :  Detailed evaluation of trained models - Final-timestep Loss gradient norm\n",
        "\n",
        "\n",
        "\n",
        "\n",
        "Submitted by \n",
        "\n",
        "___________________________________________________\n",
        "\n",
        "\n",
        "\n",
        "## PRAVISH SAINATH\n",
        "####20125633\n",
        "####M.Sc. Informatique\n",
        "####Université de Montréal\n"
      ]
    },
    {
      "metadata": {
        "id": "RE1Ryepekhc2",
        "colab_type": "code",
        "outputId": "90b460e7-cfa9-4cfe-8425-9d5b723f1131",
        "colab": {
          "base_uri": "https://localhost:8080/",
          "height": 34
        }
      },
      "cell_type": "code",
      "source": [
        "from google.colab import drive\n",
        "drive.mount('/content/drive')"
      ],
      "execution_count": 25,
      "outputs": [
        {
          "output_type": "stream",
          "text": [
            "Drive already mounted at /content/drive; to attempt to forcibly remount, call drive.mount(\"/content/drive\", force_remount=True).\n"
          ],
          "name": "stdout"
        }
      ]
    },
    {
      "metadata": {
        "id": "5zyMVJErkyCS",
        "colab_type": "code",
        "colab": {}
      },
      "cell_type": "code",
      "source": [
        "DRIVE_PATH = 'drive/My Drive/DL/HW-2/experiments'\n",
        "%cd 'drive/My Drive/DL/HW-2/experiments'"
      ],
      "execution_count": 0,
      "outputs": []
    },
    {
      "metadata": {
        "id": "VfoGHvM3k-uT",
        "colab_type": "code",
        "outputId": "41fe6fe9-bc70-4ff7-bb33-20014ef723e5",
        "colab": {
          "base_uri": "https://localhost:8080/",
          "height": 34
        }
      },
      "cell_type": "code",
      "source": [
        "!ls"
      ],
      "execution_count": 27,
      "outputs": [
        {
          "output_type": "stream",
          "text": [
            "Archived  best\tdata  GRU  IFT6135-HW2-Results\tmodels.py  ptb-lm.py  RNN  TF\n"
          ],
          "name": "stdout"
        }
      ]
    },
    {
      "metadata": {
        "id": "4CaDJkWslBNa",
        "colab_type": "code",
        "colab": {}
      },
      "cell_type": "code",
      "source": [
        "import torch\n",
        "import torch.nn as nn\n",
        "\n",
        "import numpy as np\n",
        "import torch.nn.functional as F\n",
        "import math, copy, time\n",
        "from torch.autograd import Variable\n",
        "\n",
        "import argparse\n",
        "import time\n",
        "import collections\n",
        "import os\n",
        "import sys"
      ],
      "execution_count": 0,
      "outputs": []
    },
    {
      "metadata": {
        "id": "YB3MDaREbiIa",
        "colab_type": "text"
      },
      "cell_type": "markdown",
      "source": [
        "## Models"
      ]
    },
    {
      "metadata": {
        "id": "e0VlVk9B13sh",
        "colab_type": "code",
        "colab": {}
      },
      "cell_type": "code",
      "source": [
        "def clones(module, N):\n",
        "    \"\"\"\n",
        "    A helper function for producing N identical layers (each with their own parameters).\n",
        "\n",
        "    inputs:\n",
        "        module: a pytorch nn.module\n",
        "        N (int): the number of copies of that module to return\n",
        "\n",
        "    returns:\n",
        "        a ModuleList with the copies of the module (the ModuleList is itself also a module)\n",
        "    \"\"\"\n",
        "    return nn.ModuleList([copy.deepcopy(module) for _ in range(N)])"
      ],
      "execution_count": 0,
      "outputs": []
    },
    {
      "metadata": {
        "id": "4-sLUa-Ca6uj",
        "colab_type": "text"
      },
      "cell_type": "markdown",
      "source": [
        "### RNN "
      ]
    },
    {
      "metadata": {
        "id": "glTgz_Mz2C4s",
        "colab_type": "code",
        "colab": {}
      },
      "cell_type": "code",
      "source": [
        "class RNN(nn.Module): # Implement a stacked vanilla RNN with Tanh nonlinearities.\n",
        "  def __init__(self, emb_size, hidden_size, seq_len, batch_size, vocab_size, num_layers, dp_keep_prob):\n",
        "    \"\"\"\n",
        "    emb_size:     The number of units in the input embeddings\n",
        "    hidden_size:  The number of hidden units per layer\n",
        "    seq_len:      The length of the input sequences\n",
        "    vocab_size:   The number of tokens in the vocabulary (10,000 for Penn TreeBank)\n",
        "    num_layers:   The depth of the stack (i.e. the number of hidden layers at\n",
        "                  each time-step)\n",
        "    dp_keep_prob: The probability of *not* dropping out units in the\n",
        "                  non-recurrent connections.\n",
        "                  Do not apply dropout on recurrent connections.\n",
        "    \"\"\"\n",
        "    super(RNN, self).__init__()\n",
        "\n",
        "    # TODO ========================\n",
        "    # Initialization of the parameters of the recurrent and fc layers.\n",
        "    # Your implementation should support any number of stacked hidden layers\n",
        "    # (specified by num_layers), use an input embedding layer, and include fully\n",
        "    # connected layers with dropout after each recurrent layer.\n",
        "    # Note: you may use pytorch's nn.Linear, nn.Dropout, and nn.Embedding\n",
        "    # modules, but not recurrent modules.\n",
        "    #\n",
        "    # To create a variable number of parameter tensors and/or nn.Modules\n",
        "    # (for the stacked hidden layer), you may need to use nn.ModuleList or the\n",
        "    # provided clones function (as opposed to a regular python list), in order\n",
        "    # for Pytorch to recognize these parameters as belonging to this nn.Module\n",
        "    # and compute their gradients automatically. You're not obligated to use the\n",
        "    # provided clones function.\n",
        "\n",
        "\n",
        "    self.emb_size = emb_size\n",
        "    self.hidden_size = hidden_size\n",
        "    self.seq_len = seq_len\n",
        "    self.batch_size = batch_size\n",
        "    self.vocab_size = vocab_size\n",
        "    self.num_layers = num_layers\n",
        "\n",
        "    self.embedding = nn.Embedding(self.vocab_size, self.emb_size)\n",
        "\n",
        "    self.W_x = clones(nn.Linear(self.hidden_size,self.hidden_size, bias=False),self.num_layers-1)\n",
        "    self.W_x.insert(0,nn.Linear(self.emb_size,self.hidden_size, bias=False))\n",
        "\n",
        "    self.W_h = clones(nn.Linear(self.hidden_size,self.hidden_size),self.num_layers)\n",
        "    self.W_y = nn.Linear(self.hidden_size,self.vocab_size)\n",
        "\n",
        "    self.dropout = nn.Dropout(p=1-dp_keep_prob)\n",
        "\n",
        "    self.init_weights()\n",
        "\n",
        "  def init_weights(self):\n",
        "\n",
        "    # Initialize the embedding and output weights uniformly in the range [-0.1, 0.1]\n",
        "    # and output biases to 0 (in place). The embeddings should not use a bias vector.\n",
        "    # Initialize all other (i.e. recurrent and linear) weights AND biases uniformly\n",
        "    # in the range [-k, k] where k is the square root of 1/hidden_size\n",
        "\n",
        "    nn.init.uniform_(self.embedding.weight.data, -0.1, 0.1)\n",
        "\n",
        "    nn.init.uniform_(self.W_y.weight,-0.1, 0.1)\n",
        "    self.W_y.bias.data.fill_(0.0)\n",
        "\n",
        "    k = 1 / np.sqrt(self.hidden_size)\n",
        "\n",
        "    for w_x in self.W_x:\n",
        "        nn.init.uniform_(w_x.weight,-k,k)\n",
        "\n",
        "    for w_h in self.W_h:\n",
        "        nn.init.uniform_(w_h.weight,-k,k)\n",
        "        nn.init.uniform_(w_h.bias,-k,k)\n",
        "\n",
        "\n",
        "  def init_hidden(self):\n",
        "    # initialize the hidden states to zero\n",
        "    \"\"\"\n",
        "    This is used for the first mini-batch in an epoch, only.\n",
        "    \"\"\"\n",
        "    # a parameter tensor of shape (self.num_layers, self.batch_size, self.hidden_size)\n",
        "    return torch.zeros(self.num_layers, self.batch_size, self.hidden_size)\n",
        "\n",
        "\n",
        "  def forward(self, inputs, hidden):\n",
        "    # Compute the forward pass, using nested python for loops.\n",
        "    # The outer for loop should iterate over timesteps, and the\n",
        "    # inner for loop should iterate over hidden layers of the stack.\n",
        "    #\n",
        "    # Within these for loops, use the parameter tensors and/or nn.modules you\n",
        "    # created in __init__ to compute the recurrent updates according to the\n",
        "    # equations provided in the .tex of the assignment.\n",
        "    #\n",
        "    # Note that those equations are for a single hidden-layer RNN, not a stacked\n",
        "    # RNN. For a stacked RNN, the hidden states of the l-th layer are used as\n",
        "    # inputs to to the {l+1}-st layer (taking the place of the input sequence).\n",
        "\n",
        "    \"\"\"\n",
        "    Arguments:\n",
        "        - inputs: A mini-batch of input sequences, composed of integers that\n",
        "                    represent the index of the current token(s) in the vocabulary.\n",
        "                        shape: (seq_len, batch_size)\n",
        "        - hidden: The initial hidden states for every layer of the stacked RNN.\n",
        "                        shape: (num_layers, batch_size, hidden_size)\n",
        "\n",
        "    Returns:\n",
        "        - Logits for the softmax over output tokens at every time-step.\n",
        "              **Do NOT apply softmax to the outputs!**\n",
        "              Pytorch's CrossEntropyLoss function (applied in ptb-lm.py) does\n",
        "              this computation implicitly.\n",
        "                    shape: (seq_len, batch_size, vocab_size)\n",
        "        - The final hidden states for every layer of the stacked RNN.\n",
        "              These will be used as the initial hidden states for all the\n",
        "              mini-batches in an epoch, except for the first, where the return\n",
        "              value of self.init_hidden will be used.\n",
        "              See the repackage_hiddens function in ptb-lm.py for more details,\n",
        "              if you are curious.\n",
        "                    shape: (num_layers, batch_size, hidden_size)\n",
        "    \"\"\"\n",
        "    inputs = self.embedding(inputs)\n",
        "    output_sequence_logits = []\n",
        "    hidden_history = []\n",
        "\n",
        "    for t in range(self.seq_len):\n",
        "        next_hidden = []\n",
        "        for layer in range(self.num_layers):\n",
        "            dropped_out_x = self.dropout(inputs[t] if layer == 0 else next_hidden[layer-1])\n",
        "            next_hidden_value = torch.tanh(self.W_x[layer](dropped_out_x) + self.W_h[layer](hidden[layer]))\n",
        "            next_hidden.append(next_hidden_value)\n",
        "            \n",
        "            if layer==0:\n",
        "              next_hidden_value.retain_grad()\n",
        "              hidden_history.append(next_hidden_value)\n",
        "            \n",
        "        dropped_out_last_hidden = self.dropout(next_hidden[layer])\n",
        "        output_logit = self.W_y(dropped_out_last_hidden)\n",
        "        output_sequence_logits.append(output_logit)\n",
        "        hidden = torch.stack(next_hidden)\n",
        "    logits = torch.stack(output_sequence_logits)\n",
        "    return logits.view(self.seq_len, self.batch_size, self.vocab_size), hidden, hidden_history"
      ],
      "execution_count": 0,
      "outputs": []
    },
    {
      "metadata": {
        "id": "OhyWXLSEbAzk",
        "colab_type": "text"
      },
      "cell_type": "markdown",
      "source": [
        "### GRU"
      ]
    },
    {
      "metadata": {
        "id": "vQXF0lwR2H0z",
        "colab_type": "code",
        "colab": {}
      },
      "cell_type": "code",
      "source": [
        "class GRU(nn.Module):  # Implement a stacked GRU RNN\n",
        "    \"\"\"\n",
        "        Follow the same instructions as for RNN (above), but use the equations for\n",
        "        GRU, not Vanilla RNN.\n",
        "        \"\"\"\n",
        "\n",
        "    def __init__(self, emb_size, hidden_size, seq_len, batch_size, vocab_size, num_layers, dp_keep_prob):\n",
        "        super(GRU, self).__init__()\n",
        "\n",
        "        self.emb_size = emb_size\n",
        "        self.hidden_size = hidden_size\n",
        "        self.seq_len = seq_len\n",
        "        self.batch_size = batch_size\n",
        "        self.vocab_size = vocab_size\n",
        "        self.num_layers = num_layers\n",
        "        self.dp_keep_prob = dp_keep_prob\n",
        "\n",
        "\n",
        "        # using the notation for U,W,h... as given in the assignment 2 equation\n",
        "        self.Ur = clones(nn.Linear(self.hidden_size, self.hidden_size), self.num_layers)\n",
        "\n",
        "\n",
        "        self.Uz = clones(nn.Linear(self.hidden_size, self.hidden_size), self.num_layers)\n",
        "\n",
        "        self.Uh = clones(nn.Linear(self.hidden_size, self.hidden_size), self.num_layers)\n",
        "\n",
        "        # W will have to deal with 1.input dim, then 2.later inputs from previous layers\n",
        "        self.Wr = clones(nn.Linear(self.hidden_size, self.hidden_size), self.num_layers-1)\n",
        "        self.Wr.insert(0, nn.Linear(self.emb_size, self.hidden_size, bias=False))\n",
        "\n",
        "        self.Wz = clones(nn.Linear(self.hidden_size, self.hidden_size), self.num_layers-1)\n",
        "        self.Wz.insert(0, nn.Linear(self.emb_size, self.hidden_size, bias=False))\n",
        "\n",
        "        self.Wh = clones(nn.Linear(self.hidden_size, self.hidden_size), self.num_layers-1)\n",
        "        self.Wh.insert(0, nn.Linear(self.emb_size, self.hidden_size, bias=False))\n",
        "\n",
        "        self.W_Output = nn.Linear(self.hidden_size,self.vocab_size)\n",
        "\n",
        "\n",
        "        self.dropout_layers = nn.Dropout(1-self.dp_keep_prob)\n",
        "            #[nn.Dropout(1 - self.dp_keep_prob) for _ in range(self.num_layers)]\n",
        "\n",
        "        self.embedding = nn.Embedding(self.vocab_size, self.emb_size)\n",
        "\n",
        "        self.init_weights_uniform()\n",
        "\n",
        "\n",
        "# self.fc_layer_with_dropout.apply(self.init_weights_uniform_FC)\n",
        "\n",
        "    def init_weights_uniform(self):\n",
        "        nn.init.uniform_(self.embedding.weight.data, -0.1, 0.1)\n",
        "\n",
        "        k = 1 / np.sqrt(self.hidden_size)\n",
        "\n",
        "        for w_r in self.Wr:\n",
        "            nn.init.uniform_(w_r.weight, -k, k)\n",
        "\n",
        "        for w_z in self.Wz:\n",
        "            nn.init.uniform_(w_z.weight, -k, k)\n",
        "\n",
        "        for w_h in self.Wh:\n",
        "            nn.init.uniform_(w_h.weight, -k, k)\n",
        "\n",
        "\n",
        "\n",
        "        for u_r in self.Ur:\n",
        "            nn.init.uniform_(u_r.weight, -k, k)\n",
        "            nn.init.uniform_(u_r.bias, -k, k)\n",
        "\n",
        "        for u_z in self.Uz:\n",
        "            nn.init.uniform_(u_z.weight, -k, k)\n",
        "            nn.init.uniform_(u_z.bias, -k, k)\n",
        "\n",
        "        for u_h in self.Uh:\n",
        "            nn.init.uniform_(u_h.weight, -k, k)\n",
        "            nn.init.uniform_(u_h.bias, -k, k)\n",
        "\n",
        "\n",
        "\n",
        "        nn.init.uniform_(self.W_Output.weight, -0.1, 0.1)\n",
        "        self.W_Output.bias.data.fill_(0.0)\n",
        "        return\n",
        "\n",
        "\n",
        "    def init_weights_uniform_FC(self, m):\n",
        "        if type(m) == nn.Linear:\n",
        "            torch.nn.init.uniform_(m.weight, -0.1, 0.1)\n",
        "            m.bias.data.fill_(0)\n",
        "        return\n",
        "\n",
        "\n",
        "    def init_hidden(self):\n",
        "        return torch.zeros(self.num_layers, self.batch_size, self.hidden_size)\n",
        "\n",
        "\n",
        "    # a parameter tensor of shape (self.num_layers, self.batch_size, self.hidden_size)\n",
        "\n",
        "    def layer_calculation_gru(self, x, hidden, layer):\n",
        "        x = self.dropout_layers(x)\n",
        "\n",
        "        r_pre =  self.Wr[layer](x) +  self.Ur[layer](hidden[layer])\n",
        "        r = torch.sigmoid(r_pre)\n",
        "\n",
        "        z_pre = self.Wz[layer](x) + self.Uz[layer](hidden[layer])\n",
        "        z = torch.sigmoid(z_pre)\n",
        "\n",
        "        r_hidden_layer_element_product= (r * hidden[layer])\n",
        "        h_tilda_pre = self.Wh[layer](x) + self.Uh[layer](r_hidden_layer_element_product)\n",
        "        h_tilda = torch.tanh(h_tilda_pre)\n",
        "\n",
        "        # one_minus_z = torch.ones(z.size()).to(device) - z\n",
        "        one_minus_z = 1 - z\n",
        "        h = (one_minus_z * hidden[layer]) + (z * h_tilda)\n",
        "\n",
        "        return h\n",
        "\n",
        "\n",
        "    def forward(self, inputs, hidden):\n",
        "\n",
        "        inputs = self.embedding(inputs)\n",
        "        final_output_list = []\n",
        "        hidden_history = []\n",
        "        \n",
        "        for time_in in range(self.seq_len):\n",
        "            current_input = inputs[time_in]\n",
        "            hidden_states = []\n",
        "            for layer in range(self.num_layers):\n",
        "                if layer == 0:\n",
        "                    layer_output = self.layer_calculation_gru(current_input, hidden, layer)\n",
        "                    layer_output.retain_grad()\n",
        "                    hidden_history.append(layer_output)\n",
        "                else:\n",
        "                    layer_output = self.layer_calculation_gru(hidden_states[layer - 1], hidden, layer)\n",
        "\n",
        "                hidden_states.append(layer_output)\n",
        "            last_hidden_dropout= self.dropout_layers(hidden_states[layer])\n",
        "            final_output_list.append(self.W_Output(last_hidden_dropout))\n",
        "            hidden = torch.stack(hidden_states)\n",
        "\n",
        "        return torch.stack(final_output_list), hidden, hidden_history \n"
      ],
      "execution_count": 0,
      "outputs": []
    },
    {
      "metadata": {
        "id": "-QKT_Bw4bJON",
        "colab_type": "text"
      },
      "cell_type": "markdown",
      "source": [
        "## Data Loading"
      ]
    },
    {
      "metadata": {
        "id": "KKP23Pta3pZB",
        "colab_type": "code",
        "colab": {}
      },
      "cell_type": "code",
      "source": [
        "# HELPER FUNCTIONS\n",
        "def _read_words(filename):\n",
        "    with open(filename, \"r\") as f:\n",
        "      return f.read().replace(\"\\n\", \"<eos>\").split()\n",
        "\n",
        "def _build_vocab(filename):\n",
        "    data = _read_words(filename)\n",
        "\n",
        "    counter = collections.Counter(data)\n",
        "    count_pairs = sorted(counter.items(), key=lambda x: (-x[1], x[0]))\n",
        "\n",
        "    words, _ = list(zip(*count_pairs))\n",
        "    word_to_id = dict(zip(words, range(len(words))))\n",
        "    id_to_word = dict((v, k) for k, v in word_to_id.items())\n",
        "\n",
        "    return word_to_id, id_to_word\n",
        "\n",
        "def _file_to_word_ids(filename, word_to_id):\n",
        "    data = _read_words(filename)\n",
        "    return [word_to_id[word] for word in data if word in word_to_id]\n",
        "\n",
        "# Processes the raw data from text files\n",
        "def ptb_raw_data(data_path=None, prefix=\"ptb\"):\n",
        "    train_path = os.path.join(data_path, prefix + \".train.txt\")\n",
        "    valid_path = os.path.join(data_path, prefix + \".valid.txt\")\n",
        "    test_path = os.path.join(data_path, prefix + \".test.txt\")\n",
        "\n",
        "    word_to_id, id_2_word = _build_vocab(train_path)\n",
        "    train_data = _file_to_word_ids(train_path, word_to_id)\n",
        "    valid_data = _file_to_word_ids(valid_path, word_to_id)\n",
        "    test_data = _file_to_word_ids(test_path, word_to_id)\n",
        "    return train_data, valid_data, test_data, word_to_id, id_2_word\n",
        "\n",
        "# Yields minibatches of data\n",
        "def ptb_iterator(raw_data, batch_size, num_steps):\n",
        "    raw_data = np.array(raw_data, dtype=np.int32)\n",
        "\n",
        "    data_len = len(raw_data)\n",
        "    batch_len = data_len // batch_size\n",
        "    data = np.zeros([batch_size, batch_len], dtype=np.int32)\n",
        "    for i in range(batch_size):\n",
        "        data[i] = raw_data[batch_len * i:batch_len * (i + 1)]\n",
        "\n",
        "    epoch_size = (batch_len - 1) // num_steps\n",
        "\n",
        "    if epoch_size == 0:\n",
        "        raise ValueError(\"epoch_size == 0, decrease batch_size or num_steps\")\n",
        "\n",
        "    for i in range(epoch_size):\n",
        "        x = data[:, i*num_steps:(i+1)*num_steps]\n",
        "        y = data[:, i*num_steps+1:(i+1)*num_steps+1]\n",
        "        yield (x, y)\n"
      ],
      "execution_count": 0,
      "outputs": []
    },
    {
      "metadata": {
        "id": "KqxZSCm3TaVS",
        "colab_type": "code",
        "outputId": "29a5ad4e-4a49-4841-b45c-c065d066d3a7",
        "colab": {
          "base_uri": "https://localhost:8080/",
          "height": 51
        }
      },
      "cell_type": "code",
      "source": [
        "print('Loading data from ./data')\n",
        "raw_data = ptb_raw_data(data_path='data')\n",
        "train_data, valid_data, test_data, word_to_id, id_2_word = raw_data\n",
        "vocab_size = len(word_to_id)\n",
        "print('  vocabulary size: {}'.format(vocab_size))"
      ],
      "execution_count": 33,
      "outputs": [
        {
          "output_type": "stream",
          "text": [
            "Loading data from ./data\n",
            "  vocabulary size: 10000\n"
          ],
          "name": "stdout"
        }
      ]
    },
    {
      "metadata": {
        "id": "yeXpJCl6UHnO",
        "colab_type": "code",
        "colab": {}
      },
      "cell_type": "code",
      "source": [
        "# LOSS FUNCTION\n",
        "loss_fn = nn.CrossEntropyLoss()"
      ],
      "execution_count": 0,
      "outputs": []
    },
    {
      "metadata": {
        "id": "g87jqL3jWNV7",
        "colab_type": "code",
        "colab": {}
      },
      "cell_type": "code",
      "source": [
        "torch.manual_seed(1111)\n",
        "device = torch.device(\"cuda\") if torch.cuda.is_available() else torch.device(\"cpu\")"
      ],
      "execution_count": 0,
      "outputs": []
    },
    {
      "metadata": {
        "id": "a8IswMAfToeA",
        "colab_type": "code",
        "colab": {}
      },
      "cell_type": "code",
      "source": [
        "###############################################################################\n",
        "#\n",
        "# DEFINE COMPUTATIONS FOR PROCESSING ONE EPOCH\n",
        "#\n",
        "###############################################################################\n",
        "\n",
        "def repackage_hidden(h):\n",
        "    \"\"\"\n",
        "    Wraps hidden states in new Tensors, to detach them from their history.\n",
        "\n",
        "    This prevents Pytorch from trying to backpropagate into previous input\n",
        "    sequences when we use the final hidden states from one mini-batch as the\n",
        "    initial hidden states for the next mini-batch.\n",
        "\n",
        "    Using the final hidden states in this way makes sense when the elements of\n",
        "    the mini-batches are actually successive subsequences in a set of longer sequences.\n",
        "    This is the case with the way we've processed the Penn Treebank dataset.\n",
        "    \"\"\"\n",
        "    if isinstance(h, Variable):\n",
        "        return h.detach_()\n",
        "    else:\n",
        "        return tuple(repackage_hidden(v) for v in h)"
      ],
      "execution_count": 0,
      "outputs": []
    },
    {
      "metadata": {
        "id": "8b2jO4IAbPgw",
        "colab_type": "text"
      },
      "cell_type": "markdown",
      "source": [
        "## Computation of final-timestep loss gradient norm ($ \\nabla_{h_t} \\; L_T$)"
      ]
    },
    {
      "metadata": {
        "id": "Z-pgMkR-UEBg",
        "colab_type": "code",
        "colab": {}
      },
      "cell_type": "code",
      "source": [
        "def compute_validation_loss_gradient_norms(model, data):\n",
        "    \"\"\"\n",
        "    One epoch of validation\n",
        "    \"\"\"\n",
        "    model.train()\n",
        "    hidden = model.init_hidden()\n",
        "    hidden = hidden.to(device)\n",
        "\n",
        "    # LOOP THROUGH MINIBATCHES\n",
        "    for step, (x, y) in enumerate(ptb_iterator(data, model.batch_size, model.seq_len)):\n",
        "        inputs = torch.from_numpy(x.astype(np.int64)).transpose(0, 1).contiguous().to(device)#.cuda()\n",
        "        model.zero_grad()\n",
        "        hidden = repackage_hidden(hidden)\n",
        "        outputs, hidden, hidden_history = model(inputs, hidden)\n",
        "\n",
        "        outputs = outputs[-1].view(1, model.batch_size, -1)\n",
        "        targets = torch.from_numpy(y[:,-1].reshape((-1,1)).astype(np.int64)).transpose(0, 1).contiguous().to(device)#.cuda()\n",
        "        tt = torch.squeeze(targets.view(-1, model.batch_size))\n",
        "\n",
        "        loss = loss_fn(outputs.contiguous().view(-1, model.vocab_size), tt)\n",
        "        loss.backward()\n",
        "        torch.nn.utils.clip_grad_norm_(model.parameters(), 0.25)\n",
        "\n",
        "        gradient_norm = [torch.norm(h_t.grad).item() for h_t in hidden_history]\n",
        "        gradient_norm = np.array(gradient_norm)\n",
        "        print(\"Unnormalized norm values : \",gradient_norm)\n",
        "        gradient_norm = gradient_norm / np.amax(gradient_norm)\n",
        "        print(\"Normalized norm values : \",gradient_norm)\n",
        "        return gradient_norm\n"
      ],
      "execution_count": 0,
      "outputs": []
    },
    {
      "metadata": {
        "id": "KssYYCdLbZ4X",
        "colab_type": "text"
      },
      "cell_type": "markdown",
      "source": [
        "## Experiment Run"
      ]
    },
    {
      "metadata": {
        "id": "HzIo0CMIULh5",
        "colab_type": "code",
        "outputId": "0f68942d-b3a4-43ef-f8f1-19373bab4653",
        "colab": {
          "base_uri": "https://localhost:8080/",
          "height": 527
        }
      },
      "cell_type": "code",
      "source": [
        "###############################################################################\n",
        "#\n",
        "# INVOKING THE FUNCTION FOR ALL 3 MODELS TO COMPUTE PER-TIMESTEP LOSS\n",
        "#\n",
        "###############################################################################\n",
        "\n",
        "names = ['RNN', 'GRU']\n",
        "\n",
        "models = [ RNN(emb_size=200, hidden_size=1500,\n",
        "               seq_len=35, batch_size=20,\n",
        "               vocab_size=10000, num_layers=2,\n",
        "               dp_keep_prob=0.35),\n",
        "          \n",
        "           GRU(emb_size=200, hidden_size=1500,\n",
        "               seq_len=35, batch_size=20,\n",
        "               vocab_size=10000, num_layers=2,\n",
        "               dp_keep_prob=0.35),\n",
        "         ]\n",
        "\n",
        "\n",
        "saved_paths = ['best/best_rnn.pt','best/best_gru.pt']\n",
        "\n",
        "norms = {}\n",
        "\n",
        "for name, model, saved_path in zip(names,models,saved_paths):\n",
        "    model = model.to(device)\n",
        "    state_dict = torch.load(saved_path, map_location='cpu')\n",
        "    model.load_state_dict(state_dict)\n",
        "\n",
        "    print(\"\\n Loaded state model for \",name)\n",
        "    print(\" Computing final time-step loss gradient w.r.t. hidden states for \",name)\n",
        "\n",
        "    norm_grad_L = compute_validation_loss_gradient_norms(model, valid_data)\n",
        "    norms[name] = norm_grad_L"
      ],
      "execution_count": 38,
      "outputs": [
        {
          "output_type": "stream",
          "text": [
            "\n",
            " Loaded state model for  RNN\n",
            " Computing final time-step loss gradient w.r.t. hidden states for  RNN\n",
            "Unnormalized norm values :  [0.07992268 0.07392823 0.07029124 0.07073215 0.07235814 0.0714862\n",
            " 0.07154754 0.07398979 0.07844    0.08177775 0.08567459 0.08896661\n",
            " 0.0914677  0.09647705 0.1011297  0.10684687 0.11230408 0.11839517\n",
            " 0.12666038 0.13634706 0.14616257 0.15831123 0.17155293 0.18899612\n",
            " 0.20988411 0.22941314 0.25509563 0.29319957 0.3394897  0.38240305\n",
            " 0.46346438 0.59219873 0.79328388 1.0982995  1.55059671]\n",
            "Normalized norm values :  [0.05154317 0.04767728 0.04533173 0.04561608 0.04666471 0.04610238\n",
            " 0.04614194 0.04771698 0.05058697 0.05273954 0.05525266 0.05737572\n",
            " 0.05898871 0.06221931 0.06521986 0.06890694 0.07242637 0.07635459\n",
            " 0.08168493 0.08793199 0.09426214 0.10209697 0.11063671 0.12188606\n",
            " 0.13535699 0.14795152 0.16451449 0.18908822 0.21894132 0.2466167\n",
            " 0.29889421 0.38191667 0.5115991  0.70830764 1.        ]\n",
            "\n",
            " Loaded state model for  GRU\n",
            " Computing final time-step loss gradient w.r.t. hidden states for  GRU\n",
            "Unnormalized norm values :  [0.10921379 0.09797312 0.09636073 0.10260332 0.10589137 0.10225082\n",
            " 0.12041198 0.11689678 0.12297311 0.1350086  0.12078308 0.12533385\n",
            " 0.14103311 0.16046964 0.15552494 0.16764599 0.18652685 0.18903485\n",
            " 0.20351973 0.22382082 0.22134012 0.2496552  0.25491998 0.27741766\n",
            " 0.31302619 0.34843862 0.37062979 0.43674439 0.47369888 0.5115419\n",
            " 0.56519485 0.65208298 0.67993969 0.7791307  0.81152987]\n",
            "Normalized norm values :  [0.13457766 0.12072644 0.11873959 0.12643197 0.13048364 0.12599761\n",
            " 0.14837652 0.14404495 0.15153245 0.16636307 0.1488338  0.15444144\n",
            " 0.17378672 0.19773719 0.19164413 0.20658018 0.22984594 0.2329364\n",
            " 0.25078526 0.27580109 0.27274427 0.30763526 0.31412273 0.34184528\n",
            " 0.38572356 0.42936019 0.45670504 0.53817414 0.58371096 0.63034266\n",
            " 0.69645599 0.80352307 0.83784924 0.96007642 1.        ]\n"
          ],
          "name": "stdout"
        }
      ]
    },
    {
      "metadata": {
        "id": "CSpjzlH3aymi",
        "colab_type": "text"
      },
      "cell_type": "markdown",
      "source": [
        "##Plotting"
      ]
    },
    {
      "metadata": {
        "id": "9kte28YmaXyn",
        "colab_type": "code",
        "colab": {}
      },
      "cell_type": "code",
      "source": [
        "import matplotlib.pyplot as plt\n",
        "\n",
        "from matplotlib import rc\n",
        "\n",
        "plt.style.use('ggplot')\n",
        "\n",
        "rc('figure', figsize=(8, 8))\n",
        "rc('axes', titlesize = 20, labelsize = 18, titleweight = 'bold')\n",
        "rc('xtick', labelsize = 16, color = 'black')\n",
        "rc('ytick', labelsize = 16, color = 'black')\n",
        "rc('legend', fontsize = 16, handlelength = 2)\n",
        "\n",
        "%matplotlib inline"
      ],
      "execution_count": 0,
      "outputs": []
    },
    {
      "metadata": {
        "id": "lBM9pJVmVkp1",
        "colab_type": "code",
        "outputId": "e309c218-6850-4830-c3c5-047e87ff691c",
        "colab": {
          "base_uri": "https://localhost:8080/",
          "height": 530
        }
      },
      "cell_type": "code",
      "source": [
        "colors = ['red','green']\n",
        "\n",
        "plt.figure(figsize=(10,8))\n",
        "for key,value,color in zip(norms.keys(),norms.values(),colors):\n",
        "  plt.plot(value, label = key, color = color)\n",
        "plt.xlabel('t')\n",
        "plt.ylabel(r'$ \\nabla_{h_t}$'+ ' ' +'$L_T$')\n",
        "plt.title('Final time-step gradient norm')\n",
        "plt.legend()  \n",
        "plt.show()"
      ],
      "execution_count": 40,
      "outputs": [
        {
          "output_type": "display_data",
          "data": {
            "image/png": "[encoded data removed]",
            "text/plain": [
              "<Figure size 720x576 with 1 Axes>"
            ]
          },
          "metadata": {
            "tags": []
          }
        }
      ]
    }
  ]
}